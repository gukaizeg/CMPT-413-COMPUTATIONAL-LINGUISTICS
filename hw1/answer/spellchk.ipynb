{
 "cells": [
  {
   "cell_type": "markdown",
   "metadata": {},
   "source": [
    "# spellchk: default program"
   ]
  },
  {
   "cell_type": "code",
   "execution_count": 1,
   "metadata": {},
   "outputs": [],
   "source": [
    "from spellchk import *"
   ]
  },
  {
   "cell_type": "markdown",
   "metadata": {},
   "source": [
    "## Documentation\n",
    "\n",
    "Read `answer/default.py` starting with the `spellchk` function and see how it solves the task of spell correction using a pre-trained language model that can predict a replacement token for a masked token in the input.\n",
    "\n",
    "In your submission, write some beautiful documentation of your program here."
   ]
  },
  {
   "cell_type": "code",
   "execution_count": 7,
   "metadata": {},
   "outputs": [
    {
     "name": "stdout",
     "output_type": "stream",
     "text": [
      "4\tit will put your maind into non-stop learning.\n",
      "4\tit will put your mind into non-stop learning.\n",
      "\n",
      "15\tIt is true that New England , more than any other section , was dedicated o education from the start .\n",
      "15\tIt is true that New England , more than any other section , was dedicated to education from the start .\n",
      "\n",
      "3\tIt was the psoture which the men had come to recognize as that of Killpath defying his ulcer .\n",
      "3\tIt was the posture which the men had come to recognize as that of Killpath defying his ulcer .\n",
      "\n",
      "9\t`` Oh , yes '' , I said , feelig annoyed , `` she was very pretty .\n",
      "9\t`` Oh , yes '' , I said , feeling annoyed , `` she was very pretty .\n",
      "\n",
      "8\tThere was no doubt that Herr Schaffner meant evey word of what he said .\n",
      "8\tThere was no doubt that Herr Schaffner meant every word of what he said .\n"
     ]
    }
   ],
   "source": [
    "from io import StringIO\n",
    "with StringIO(\"4\\tit will put your maind into non-stop learning.\") as f:\n",
    "    print(\"4\\tit will put your maind into non-stop learning.\")\n",
    "    for (locations, spellchk_sent) in spellchk(f):\n",
    "        print(\"{locs}\\t{sent}\".format(\n",
    "            locs=\",\".join([str(i) for i in locations]),\n",
    "            sent=\" \".join(spellchk_sent)\n",
    "        ))\n",
    "print()\n",
    "with StringIO(\"15\\tIt is true that New England , more than any other section , was dedicated o education from the start .\") as f:\n",
    "    print(\"15\\tIt is true that New England , more than any other section , was dedicated o education from the start .\")\n",
    "    for (locations, spellchk_sent) in spellchk(f):\n",
    "        print(\"{locs}\\t{sent}\".format(\n",
    "            locs=\",\".join([str(i) for i in locations]),\n",
    "            sent=\" \".join(spellchk_sent)\n",
    "        ))\n",
    "print()\n",
    "with StringIO(\"3\\tIt was the psoture which the men had come to recognize as that of Killpath defying his ulcer .\") as f:\n",
    "    print(\"3\\tIt was the psoture which the men had come to recognize as that of Killpath defying his ulcer .\")\n",
    "    for (locations, spellchk_sent) in spellchk(f):\n",
    "        print(\"{locs}\\t{sent}\".format(\n",
    "            locs=\",\".join([str(i) for i in locations]),\n",
    "            sent=\" \".join(spellchk_sent)\n",
    "        ))\n",
    "print()\n",
    "with StringIO(\"9\\t`` Oh , yes '' , I said , feelig annoyed , `` she was very pretty .\") as f:\n",
    "    print(\"9\\t`` Oh , yes '' , I said , feelig annoyed , `` she was very pretty .\")\n",
    "    for (locations, spellchk_sent) in spellchk(f):\n",
    "        print(\"{locs}\\t{sent}\".format(\n",
    "            locs=\",\".join([str(i) for i in locations]),\n",
    "            sent=\" \".join(spellchk_sent)\n",
    "        ))\n",
    "print()\n",
    "with StringIO(\"8\\tThere was no doubt that Herr Schaffner meant evey word of what he said .\") as f:\n",
    "    print(\"8\\tThere was no doubt that Herr Schaffner meant evey word of what he said .\")\n",
    "    for (locations, spellchk_sent) in spellchk(f):\n",
    "        print(\"{locs}\\t{sent}\".format(\n",
    "            locs=\",\".join([str(i) for i in locations]),\n",
    "            sent=\" \".join(spellchk_sent)\n",
    "        ))"
   ]
  },
  {
   "cell_type": "markdown",
   "metadata": {},
   "source": [
    "## Analysis\n",
    "\n",
    "Do some analysis of the results. What ideas did you try? What worked and what did not?\n",
    "\n",
    "### Worked\n",
    "* using distance.levenshtein to pick most likely prediction\n",
    "* adjust pseudo-parameter: top_k\n",
    "\n",
    "### Didn't work\n",
    "* using \"mixture weight\" method: $(1-\\lambda)*probs + \\lambda * distance.levenshtein$\n",
    "\n",
    "### Analysis\n",
    "The distance.levenshtein may be more important than the prob. Since when $\\lambda$ become lower ($\\lambda$ should be greater than 0.9), the score will be decreased."
   ]
  },
  {
   "cell_type": "markdown",
   "metadata": {},
   "source": [
    "## Group work\n",
    "We read papers and finish code together.\n",
    "Special algorithm contribution:\n",
    "* rqa4: using distance.levenshtein to pick most likely prediction\n",
    "* gukaizeg: adjust psudo-parameter: top_k\n"
   ]
  }
 ],
 "metadata": {
  "kernelspec": {
   "display_name": "Python 3 (ipykernel)",
   "language": "python",
   "name": "python3"
  },
  "language_info": {
   "codemirror_mode": {
    "name": "ipython",
    "version": 3
   },
   "file_extension": ".py",
   "mimetype": "text/x-python",
   "name": "python",
   "nbconvert_exporter": "python",
   "pygments_lexer": "ipython3",
   "version": "3.9.16"
  }
 },
 "nbformat": 4,
 "nbformat_minor": 2
}
