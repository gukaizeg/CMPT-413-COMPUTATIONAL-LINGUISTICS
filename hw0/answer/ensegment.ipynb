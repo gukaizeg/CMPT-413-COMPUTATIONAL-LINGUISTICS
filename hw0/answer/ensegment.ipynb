{
 "cells": [
  {
   "cell_type": "markdown",
   "metadata": {},
   "source": [
    "# ensegment: default program"
   ]
  },
  {
   "cell_type": "code",
   "execution_count": 100,
   "metadata": {},
   "outputs": [],
   "source": [
    "from ensegment import *"
   ]
  },
  {
   "cell_type": "code",
   "execution_count": 101,
   "metadata": {},
   "outputs": [],
   "source": [
    "def contains_digit_and_letter(input_str):\n",
    "    pattern = re.compile(r'^(?=.*[0-9])(?=.*[a-zA-Z])')\n",
    "    return bool(pattern.search(input_str))\n",
    "\n",
    "def avoid_long_words(key, N):\n",
    "    \"Estimate the probability of an unknown word.\"\n",
    "    if key.isdigit():\n",
    "        return 15000**len(key)/N\n",
    "    if contains_digit_and_letter(key):\n",
    "        return 0\n",
    "    return 10./(N * 10**len(key))"
   ]
  },
  {
   "cell_type": "markdown",
   "metadata": {},
   "source": [
    "## Documentation\n",
    "\n",
    "Write some beautiful documentation of your program here."
   ]
  },
  {
   "cell_type": "code",
   "execution_count": 102,
   "metadata": {},
   "outputs": [
    {
     "name": "stdout",
     "output_type": "stream",
     "text": [
      "dev_origin: choosespain\n",
      "dev_result: choose spain\n",
      "dev_origin: thisisatest\n",
      "dev_result: this is a test\n",
      "dev_origin: whorepresents\n",
      "dev_result: who represents\n",
      "dev_origin: expertsexchange\n",
      "dev_result: experts exchange\n",
      "dev_origin: speedofart\n",
      "dev_result: speed of art\n",
      "dev_origin: unclimatechangebody\n",
      "dev_result: un climate change body\n",
      "dev_origin: wearethepeople\n",
      "dev_result: we are the people\n",
      "dev_origin: mentionyourfaves\n",
      "dev_result: mention your faves\n",
      "dev_origin: nowplaying\n",
      "dev_result: now playing\n",
      "dev_origin: thewalkingdead\n",
      "dev_result: the walking dead\n",
      "dev_origin: followme\n",
      "dev_result: follow me\n",
      "dev_origin: wearethepeople\n",
      "dev_result: we are the people\n",
      "dev_origin: mentionyourfaves\n",
      "dev_result: mention your faves\n",
      "dev_origin: checkdomain\n",
      "dev_result: check domain\n",
      "dev_origin: bigrock\n",
      "dev_result: bigrock\n",
      "dev_origin: namecheap\n",
      "dev_result: name cheap\n",
      "dev_origin: appledomains\n",
      "dev_result: apple domains\n",
      "dev_origin: honestyhour\n",
      "dev_result: honesty hour\n",
      "dev_origin: beinghuman\n",
      "dev_result: being human\n",
      "dev_origin: followback\n",
      "dev_result: follow back\n",
      "dev_origin: socialmedia\n",
      "dev_result: social media\n",
      "dev_origin: 30secondstoearth\n",
      "dev_result: 30 seconds to earth\n",
      "dev_origin: currentratesoughttogodown\n",
      "dev_result: current rate sought to go down\n",
      "dev_origin: thisisinsane\n",
      "dev_result: this is insane\n",
      "dev_origin: whatismyname\n",
      "dev_result: what is my name\n",
      "dev_origin: isittime\n",
      "dev_result: is it time\n",
      "dev_origin: letusgo\n",
      "dev_result: let us go\n",
      "dev_origin: metoo\n",
      "dev_result: me too\n",
      "dev_origin: nowthatcherisdead\n",
      "dev_result: now thatcher is dead\n",
      "dev_origin: adviceforyoungjournalists\n",
      "dev_result: advice for young journalists\n"
     ]
    }
   ],
   "source": [
    "N = 1024908267229\n",
    "Pw  = Pdist(data=datafile(\"../data/count_1w.txt\"),N= N, missingfn=avoid_long_words)\n",
    "segmenter = Segment(Pw)\n",
    "with open(\"../data/input/dev.txt\") as f:\n",
    "    for line in f:\n",
    "        print(\"dev_origin: \"+line.strip())\n",
    "        print(\"dev_result: \"+\" \".join(segmenter.segment(line.strip())))"
   ]
  },
  {
   "cell_type": "code",
   "execution_count": 103,
   "metadata": {},
   "outputs": [
    {
     "name": "stdout",
     "output_type": "stream",
     "text": [
      "test_origin: howtobreakupin5words\n",
      "test_result: howto breakup in 5 words\n",
      "test_origin: whatmakesgodsmile\n",
      "test_result: what makes god smile\n",
      "test_origin: 10peoplewhomeanalottome\n",
      "test_result: 10 people who mean alot to me\n",
      "test_origin: worstdayin4words\n",
      "test_result: worst day in 4 words\n",
      "test_origin: lovestoryin5words\n",
      "test_result: love story in 5 words\n",
      "test_origin: top3favouritecomics\n",
      "test_result: top 3 favourite comics\n",
      "test_origin: 10breakuplines\n",
      "test_result: 10 breakup lines\n",
      "test_origin: thingsthatmakeyousmile\n",
      "test_result: things that make you smile\n",
      "test_origin: bestfemaleathlete\n",
      "test_result: best female athlete\n",
      "test_origin: worstbossin5words\n",
      "test_result: worst boss in 5 words\n",
      "test_origin: nowisthetimeforallgood\n",
      "test_result: now is the time for all good\n",
      "test_origin: itisatruthuniversallyacknowledged\n",
      "test_result: it is a truth universally acknowledged\n",
      "test_origin: wheninthecourseofhumaneventsitbecomesnecessary\n",
      "test_result: when in the course of human events it becomes necessary\n",
      "test_origin: itwasabrightcolddayinaprilandtheclockswerestrikingthirteen\n",
      "test_result: it was a bright cold day in april and the clocks were striking thirteen\n",
      "test_origin: itwasthebestoftimesitwastheworstoftimesitwastheageofwisdomitwastheageoffoolishness\n",
      "test_result: it was the best of times it was the worst of times it was the age of wisdom it was the age of foolishness\n",
      "test_origin: asgregorsamsaawokeonemorningfromuneasydreamshefoundhimselftransformedinhisbedintoagiganticinsect\n",
      "test_result: as gregor samsa awoke one morning from uneasy dreams he found himself transformed in his bed into a gigantic insect\n",
      "test_origin: inaholeinthegroundtherelivedahobbitnotanastydirtywetholefilledwiththeendsofwormsandanoozysmellnoryetadrybaresandyholewithnothinginittositdownonortoeatitwasahobbitholeandthatmeanscomfort\n",
      "test_result: in a hole in the ground there lived a hobbit not a nasty dirty wet hole filled with the ends of worms and an oozy smell nor yet a dry bare sandy hole with nothing in it to sitdown on or to eat it was a hobbit hole and that means comfort\n",
      "test_origin: faroutintheunchartedbackwatersoftheunfashionableendofthewesternspiralarmofthegalaxyliesasmallunregardedyellowsun\n",
      "test_result: far out in the uncharted backwaters of the unfashionable end of the western spiral arm of the galaxy lies a small un regarded yellow sun\n"
     ]
    }
   ],
   "source": [
    "N = 1024908267229\n",
    "Pw  = Pdist(data=datafile(\"../data/count_1w.txt\"),N= N, missingfn=avoid_long_words)\n",
    "segmenter = Segment(Pw)\n",
    "with open(\"../data/input/test.txt\") as f:\n",
    "    for line in f:\n",
    "        print(\"test_origin: \"+line.strip())\n",
    "        print(\"test_result: \"+\" \".join(segmenter.segment(line.strip())))"
   ]
  },
  {
   "cell_type": "markdown",
   "metadata": {},
   "source": [
    "## Analysis\n",
    "\n",
    "Do some analysis of the results. What ideas did you try? What worked and what did not?"
   ]
  }
 ],
 "metadata": {
  "kernelspec": {
   "display_name": "Python 3",
   "language": "python",
   "name": "python3"
  },
  "language_info": {
   "codemirror_mode": {
    "name": "ipython",
    "version": 3
   },
   "file_extension": ".py",
   "mimetype": "text/x-python",
   "name": "python",
   "nbconvert_exporter": "python",
   "pygments_lexer": "ipython3",
   "version": "3.9.16"
  }
 },
 "nbformat": 4,
 "nbformat_minor": 2
}
