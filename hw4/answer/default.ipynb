{
 "cells": [
  {
   "cell_type": "markdown",
   "metadata": {},
   "source": [
    "# prefixtune: default program"
   ]
  },
  {
   "cell_type": "code",
   "execution_count": 1,
   "metadata": {},
   "outputs": [],
   "source": [
    "from default import *\n",
    "import os, sys"
   ]
  },
  {
   "cell_type": "markdown",
   "metadata": {},
   "source": [
    "## Run the default solution on small"
   ]
  },
  {
   "cell_type": "code",
   "execution_count": 2,
   "metadata": {},
   "outputs": [
    {
     "name": "stderr",
     "output_type": "stream",
     "text": [
      "10it [00:20,  2.01s/it]"
     ]
    },
    {
     "name": "stdout",
     "output_type": "stream",
     "text": [
      "0||  __________________________________________________________________________   I’ve been a fan of the internet for a while now, and I’ve been using it for the past few months. I’ve been using it for a while now, and I�\n",
      "1||  __________________________________________   The following is a list of the most important things you need to know about the world's most important and most important health care services.  1.1.1.1  1.1.1.\n",
      "2||  ____________   In the past few weeks, I’ve been following the news that the United States Department of Justice (USDOJ) is investigating allegations that President Donald Trump’s campaign colluded with Russia to interfere in the\n",
      "3||  __________________________________________________________________________   The following is a list of things you should know about the U.S. Constitution.  1. The Constitution of the United States. The Constitution of the United States. The Constitution of the United States\n",
      "4||  ___________    The U.S. Department of Homeland Security (DHS) announced today that the U.S. Department of Homeland Security (DHS) announced that the U.S. Department of Homeland Security (DHS)\n",
      "5||  ***************************   The following is a list of the most important things we need to know about the world’s most important health care system. The following is a list of the most important things we need to know about the world\n",
      "6||  ____________   A new study has been published in the Proceedings of the National Academy of Sciences (PNAS) of the National Academy of Sciences (PNAS) of the National Academy of Sciences (PNAS) of the National Academy of Sciences\n",
      "7||  ___________   In the last few weeks, I’ve been trying to figure out how to get the best out of the world. I’ve been struggling to find a way to get the best out of the world. I\n",
      "8||  __________________________________________________________________________   We‏                                         \n",
      "9||  __________________________________________________________________________________   This is the first of a series of articles that I will be covering for you in the coming weeks. I have been working on this project for a while now, but I am now working on a new project. \n"
     ]
    },
    {
     "name": "stderr",
     "output_type": "stream",
     "text": [
      "\n"
     ]
    }
   ],
   "source": [
    "basemodel = 'distilgpt2'\n",
    "table_to_text = TableToText(\"peft\", basemodel=basemodel)\n",
    "model = AutoModelForCausalLM.from_pretrained(basemodel)\n",
    "decoder_output = table_to_text.decode(model, '../data/input/small.txt')\n",
    "print(\"\\n\".join(decoder_output))"
   ]
  },
  {
   "cell_type": "markdown",
   "metadata": {},
   "source": [
    "Ignore the warnings from the transformers library. They are expected to occur."
   ]
  },
  {
   "cell_type": "markdown",
   "metadata": {},
   "source": [
    "## Evaluate the default output"
   ]
  },
  {
   "cell_type": "markdown",
   "metadata": {},
   "source": [
    "See `bleu.py`"
   ]
  },
  {
   "cell_type": "markdown",
   "metadata": {},
   "source": [
    "## Documentation\n",
    "\n",
    "Write some beautiful documentation of your program here."
   ]
  },
  {
   "cell_type": "markdown",
   "metadata": {},
   "source": [
    "## Analysis\n",
    "\n",
    "Do some analysis of the results. What ideas did you try? What worked and what did not?"
   ]
  }
 ],
 "metadata": {
  "kernelspec": {
   "display_name": "Python 3 (ipykernel)",
   "language": "python",
   "name": "python3"
  },
  "language_info": {
   "codemirror_mode": {
    "name": "ipython",
    "version": 3
   },
   "file_extension": ".py",
   "mimetype": "text/x-python",
   "name": "python",
   "nbconvert_exporter": "python",
   "pygments_lexer": "ipython3",
   "version": "3.9.16"
  }
 },
 "nbformat": 4,
 "nbformat_minor": 2
}
